{
 "cells": [
  {
   "cell_type": "code",
   "execution_count": 1,
   "id": "c06a8038-561b-4901-b444-5b7c016187c6",
   "metadata": {},
   "outputs": [],
   "source": [
    "import os"
   ]
  },
  {
   "cell_type": "code",
   "execution_count": 3,
   "id": "2c14ed49-fcb7-4b3f-8876-64b17dce138a",
   "metadata": {},
   "outputs": [],
   "source": [
    "from groq import Groq"
   ]
  },
  {
   "cell_type": "code",
   "execution_count": 4,
   "id": "b8d84c85-4296-4f96-af2d-2dc5c717d3a3",
   "metadata": {},
   "outputs": [],
   "source": [
    "client= Groq()"
   ]
  },
  {
   "cell_type": "code",
   "execution_count": 5,
   "id": "0df19ab5-4b9a-4184-bb03-4df3df289f80",
   "metadata": {},
   "outputs": [
    {
     "data": {
      "text/plain": [
       "\"It depends on which course you're referring to. Could you please provide more context or information about the course, such as the name, start date, and duration? This will help me give you a more accurate answer.\\n\\nIn general, it may still be possible to join a course even if it has already started, depending on the policies of the course provider. Some courses allow late enrollment, while others do not. It's best to contact the course provider directly to inquire about the possibility of joining the course late. They will be able to provide you with the most up-to-date information on course availability and enrollment deadlines.\""
      ]
     },
     "execution_count": 5,
     "metadata": {},
     "output_type": "execute_result"
    }
   ],
   "source": [
    "response = client.chat.completions.create(\n",
    "    model='mixtral-8x7b-32768',\n",
    "    messages=[{\"role\": \"user\", \"content\": \"Is It too late to join the course\"}]\n",
    ")\n",
    "\n",
    "response.choices[0].message.content"
   ]
  },
  {
   "cell_type": "code",
   "execution_count": 8,
   "id": "3522c1d3-c75d-4cad-b821-96eab7f10301",
   "metadata": {},
   "outputs": [
    {
     "name": "stdout",
     "output_type": "stream",
     "text": [
      "Fast language models are important for several reasons:\n",
      "\n",
      "1. Efficiency: Fast language models can process and generate text much faster than traditional language models. This is important for real-time applications such as chatbots, virtual assistants, and speech recognition systems.\n",
      "2. Scalability: Fast language models can be deployed on a larger scale, making it possible to handle a higher volume of requests. This is important for businesses and organizations that need to process large amounts of text data.\n",
      "3. Cost-effective: Fast language models are more cost-effective than traditional language models because they require less computational resources and can handle more requests per unit of time. This is important for businesses and organizations that need to keep costs down while still providing high-quality language processing capabilities.\n",
      "4. Improved user experience: Fast language models can provide a more responsive and natural user experience. For example, a chatbot that can process and generate text quickly will be able to carry on a more natural and fluid conversation with a user.\n",
      "5. Advanced applications: Fast language models enable advanced natural language processing applications such as machine translation, sentiment analysis, and summarization. These applications can provide valuable insights and make it possible to process and understand large amounts of text data quickly and accurately.\n",
      "\n",
      "Overall, fast language models are important for a wide range of applications, from everyday consumer applications to advanced business and industrial applications. They are a key enabler of the current shift towards more natural and intuitive human-computer interaction.\n"
     ]
    }
   ],
   "source": [
    "response = client.chat.completions.create(\n",
    "    model='mixtral-8x7b-32768',\n",
    "    messages=[{\"role\": \"user\", \"content\": \"Explain the importance of fast language models\"}]\n",
    ")\n",
    "\n",
    "print(response.choices[0].message.content)"
   ]
  },
  {
   "cell_type": "code",
   "execution_count": 1,
   "id": "275dec0b-3435-414e-a5e1-cf87256a8bcc",
   "metadata": {},
   "outputs": [],
   "source": [
    "import openai"
   ]
  },
  {
   "cell_type": "code",
   "execution_count": 2,
   "id": "df3cfaa2-b6e5-4520-afff-121d47318ccb",
   "metadata": {},
   "outputs": [],
   "source": [
    "from openai import OpenAI"
   ]
  },
  {
   "cell_type": "code",
   "execution_count": 3,
   "id": "a9d80d91-a4f3-4f9a-a7fe-e2e8665da1bc",
   "metadata": {},
   "outputs": [],
   "source": [
    "client = OpenAI()"
   ]
  },
  {
   "cell_type": "code",
   "execution_count": null,
   "id": "640686f8-475d-4cf0-88ec-0c85990a4f8f",
   "metadata": {},
   "outputs": [],
   "source": [
    "response = client.chat.completions.create(\n",
    "    model='gpt-3.5-turbo',\n",
    "    messages=[{\"role\": \"user\", \"content\": \"Is It too late to join the course\"}]\n",
    ")\n",
    "\n",
    "response.choices[0].message.content"
   ]
  },
  {
   "cell_type": "code",
   "execution_count": null,
   "id": "7c59c1bf-4a3b-46da-af63-eb03f1cedb68",
   "metadata": {},
   "outputs": [],
   "source": []
  },
  {
   "cell_type": "code",
   "execution_count": null,
   "id": "bc8e4149-1e31-4ebd-8296-faf2f85d09cf",
   "metadata": {},
   "outputs": [],
   "source": []
  }
 ],
 "metadata": {
  "kernelspec": {
   "display_name": "Python 3 (ipykernel)",
   "language": "python",
   "name": "python3"
  },
  "language_info": {
   "codemirror_mode": {
    "name": "ipython",
    "version": 3
   },
   "file_extension": ".py",
   "mimetype": "text/x-python",
   "name": "python",
   "nbconvert_exporter": "python",
   "pygments_lexer": "ipython3",
   "version": "3.10.13"
  }
 },
 "nbformat": 4,
 "nbformat_minor": 5
}
